{
 "cells": [
  {
   "cell_type": "code",
   "execution_count": 23,
   "id": "a1d1ee75",
   "metadata": {},
   "outputs": [],
   "source": [
    "import requests"
   ]
  },
  {
   "cell_type": "code",
   "execution_count": 67,
   "id": "1e1c17e6",
   "metadata": {},
   "outputs": [],
   "source": [
    "response = requests.get(url=\"http://localhost:8000/question_card/4\")"
   ]
  },
  {
   "cell_type": "code",
   "execution_count": 68,
   "id": "1ae9e4e9",
   "metadata": {},
   "outputs": [
    {
     "data": {
      "text/plain": [
       "'{\"id\":4,\"text\":\"TSA guidelines now prohibit {} on airplanes.\",\"num_gaps\":1}'"
      ]
     },
     "execution_count": 68,
     "metadata": {},
     "output_type": "execute_result"
    }
   ],
   "source": [
    "response.text"
   ]
  },
  {
   "cell_type": "code",
   "execution_count": 24,
   "id": "3403360c",
   "metadata": {},
   "outputs": [],
   "source": [
    "import json"
   ]
  },
  {
   "cell_type": "code",
   "execution_count": 71,
   "id": "fe64fb68",
   "metadata": {},
   "outputs": [
    {
     "data": {
      "text/plain": [
       "'TSA guidelines now prohibit {} on airplanes.'"
      ]
     },
     "execution_count": 71,
     "metadata": {},
     "output_type": "execute_result"
    }
   ],
   "source": [
    "x = json.loads(response.text)\n",
    "x[\"text\"]"
   ]
  },
  {
   "cell_type": "code",
   "execution_count": 25,
   "id": "112dc8de",
   "metadata": {},
   "outputs": [],
   "source": [
    "import random"
   ]
  },
  {
   "cell_type": "code",
   "execution_count": 167,
   "id": "8d6b398f",
   "metadata": {},
   "outputs": [
    {
     "name": "stdout",
     "output_type": "stream",
     "text": [
      "7\n"
     ]
    }
   ],
   "source": [
    "response = requests.post(url=\"http://localhost:8000/create_player\")\n",
    "PlayerID = json.loads(response.text)\n",
    "print(PlayerID)"
   ]
  },
  {
   "cell_type": "code",
   "execution_count": 6,
   "id": "176e0bd4",
   "metadata": {},
   "outputs": [],
   "source": [
    "response = requests.post(url=\"http://localhost:8000/create_game\")\n",
    "GameID, QCard = json.loads(response.text)"
   ]
  },
  {
   "cell_type": "code",
   "execution_count": 169,
   "id": "2c98429b",
   "metadata": {},
   "outputs": [
    {
     "data": {
      "text/plain": [
       "<Response [200]>"
      ]
     },
     "execution_count": 169,
     "metadata": {},
     "output_type": "execute_result"
    }
   ],
   "source": [
    "requests.post(url=f\"http://localhost:8000/join_game/{GameID}/{PlayerID}\")"
   ]
  },
  {
   "cell_type": "code",
   "execution_count": 15,
   "id": "0d96439a",
   "metadata": {},
   "outputs": [
    {
     "name": "stdout",
     "output_type": "stream",
     "text": [
      "That’s right, I killed {}. How, you ask? {}. 2\n"
     ]
    }
   ],
   "source": [
    "response = requests.get(url=f\"http://localhost:8000/return_qcard/{GameID}\")\n",
    "QCard, NumGaps = json.loads(response.text)\n",
    "print(QCard, NumGaps)"
   ]
  },
  {
   "cell_type": "code",
   "execution_count": 176,
   "id": "03a490d9",
   "metadata": {},
   "outputs": [
    {
     "name": "stdout",
     "output_type": "stream",
     "text": [
      "number of players: 1\n"
     ]
    }
   ],
   "source": [
    "response = requests.get(url=f\"http://localhost:8000/return_num_players/{GameID}\")\n",
    "print(\"number of players:\", response.text)"
   ]
  },
  {
   "cell_type": "code",
   "execution_count": 161,
   "id": "6530c9a1",
   "metadata": {},
   "outputs": [
    {
     "ename": "JSONDecodeError",
     "evalue": "Expecting value: line 1 column 1 (char 0)",
     "output_type": "error",
     "traceback": [
      "\u001b[1;31m---------------------------------------------------------------------------\u001b[0m",
      "\u001b[1;31mJSONDecodeError\u001b[0m                           Traceback (most recent call last)",
      "\u001b[1;32m<ipython-input-161-0430ca1590d6>\u001b[0m in \u001b[0;36m<module>\u001b[1;34m\u001b[0m\n\u001b[0;32m      1\u001b[0m \u001b[0mresponse\u001b[0m \u001b[1;33m=\u001b[0m \u001b[0mrequests\u001b[0m\u001b[1;33m.\u001b[0m\u001b[0mget\u001b[0m\u001b[1;33m(\u001b[0m\u001b[0murl\u001b[0m\u001b[1;33m=\u001b[0m\u001b[1;34mf\"http://localhost:8000/czar/{GameID}/{PlayerID}\"\u001b[0m\u001b[1;33m)\u001b[0m\u001b[1;33m\u001b[0m\u001b[1;33m\u001b[0m\u001b[0m\n\u001b[1;32m----> 2\u001b[1;33m \u001b[0mCzarTurn\u001b[0m \u001b[1;33m=\u001b[0m \u001b[0mjson\u001b[0m\u001b[1;33m.\u001b[0m\u001b[0mloads\u001b[0m\u001b[1;33m(\u001b[0m\u001b[0mresponse\u001b[0m\u001b[1;33m.\u001b[0m\u001b[0mtext\u001b[0m\u001b[1;33m)\u001b[0m\u001b[1;33m\u001b[0m\u001b[1;33m\u001b[0m\u001b[0m\n\u001b[0m",
      "\u001b[1;32m~\\anaconda3\\lib\\json\\__init__.py\u001b[0m in \u001b[0;36mloads\u001b[1;34m(s, cls, object_hook, parse_float, parse_int, parse_constant, object_pairs_hook, **kw)\u001b[0m\n\u001b[0;32m    355\u001b[0m             \u001b[0mparse_int\u001b[0m \u001b[1;32mis\u001b[0m \u001b[1;32mNone\u001b[0m \u001b[1;32mand\u001b[0m \u001b[0mparse_float\u001b[0m \u001b[1;32mis\u001b[0m \u001b[1;32mNone\u001b[0m \u001b[1;32mand\u001b[0m\u001b[1;33m\u001b[0m\u001b[1;33m\u001b[0m\u001b[0m\n\u001b[0;32m    356\u001b[0m             parse_constant is None and object_pairs_hook is None and not kw):\n\u001b[1;32m--> 357\u001b[1;33m         \u001b[1;32mreturn\u001b[0m \u001b[0m_default_decoder\u001b[0m\u001b[1;33m.\u001b[0m\u001b[0mdecode\u001b[0m\u001b[1;33m(\u001b[0m\u001b[0ms\u001b[0m\u001b[1;33m)\u001b[0m\u001b[1;33m\u001b[0m\u001b[1;33m\u001b[0m\u001b[0m\n\u001b[0m\u001b[0;32m    358\u001b[0m     \u001b[1;32mif\u001b[0m \u001b[0mcls\u001b[0m \u001b[1;32mis\u001b[0m \u001b[1;32mNone\u001b[0m\u001b[1;33m:\u001b[0m\u001b[1;33m\u001b[0m\u001b[1;33m\u001b[0m\u001b[0m\n\u001b[0;32m    359\u001b[0m         \u001b[0mcls\u001b[0m \u001b[1;33m=\u001b[0m \u001b[0mJSONDecoder\u001b[0m\u001b[1;33m\u001b[0m\u001b[1;33m\u001b[0m\u001b[0m\n",
      "\u001b[1;32m~\\anaconda3\\lib\\json\\decoder.py\u001b[0m in \u001b[0;36mdecode\u001b[1;34m(self, s, _w)\u001b[0m\n\u001b[0;32m    335\u001b[0m \u001b[1;33m\u001b[0m\u001b[0m\n\u001b[0;32m    336\u001b[0m         \"\"\"\n\u001b[1;32m--> 337\u001b[1;33m         \u001b[0mobj\u001b[0m\u001b[1;33m,\u001b[0m \u001b[0mend\u001b[0m \u001b[1;33m=\u001b[0m \u001b[0mself\u001b[0m\u001b[1;33m.\u001b[0m\u001b[0mraw_decode\u001b[0m\u001b[1;33m(\u001b[0m\u001b[0ms\u001b[0m\u001b[1;33m,\u001b[0m \u001b[0midx\u001b[0m\u001b[1;33m=\u001b[0m\u001b[0m_w\u001b[0m\u001b[1;33m(\u001b[0m\u001b[0ms\u001b[0m\u001b[1;33m,\u001b[0m \u001b[1;36m0\u001b[0m\u001b[1;33m)\u001b[0m\u001b[1;33m.\u001b[0m\u001b[0mend\u001b[0m\u001b[1;33m(\u001b[0m\u001b[1;33m)\u001b[0m\u001b[1;33m)\u001b[0m\u001b[1;33m\u001b[0m\u001b[1;33m\u001b[0m\u001b[0m\n\u001b[0m\u001b[0;32m    338\u001b[0m         \u001b[0mend\u001b[0m \u001b[1;33m=\u001b[0m \u001b[0m_w\u001b[0m\u001b[1;33m(\u001b[0m\u001b[0ms\u001b[0m\u001b[1;33m,\u001b[0m \u001b[0mend\u001b[0m\u001b[1;33m)\u001b[0m\u001b[1;33m.\u001b[0m\u001b[0mend\u001b[0m\u001b[1;33m(\u001b[0m\u001b[1;33m)\u001b[0m\u001b[1;33m\u001b[0m\u001b[1;33m\u001b[0m\u001b[0m\n\u001b[0;32m    339\u001b[0m         \u001b[1;32mif\u001b[0m \u001b[0mend\u001b[0m \u001b[1;33m!=\u001b[0m \u001b[0mlen\u001b[0m\u001b[1;33m(\u001b[0m\u001b[0ms\u001b[0m\u001b[1;33m)\u001b[0m\u001b[1;33m:\u001b[0m\u001b[1;33m\u001b[0m\u001b[1;33m\u001b[0m\u001b[0m\n",
      "\u001b[1;32m~\\anaconda3\\lib\\json\\decoder.py\u001b[0m in \u001b[0;36mraw_decode\u001b[1;34m(self, s, idx)\u001b[0m\n\u001b[0;32m    353\u001b[0m             \u001b[0mobj\u001b[0m\u001b[1;33m,\u001b[0m \u001b[0mend\u001b[0m \u001b[1;33m=\u001b[0m \u001b[0mself\u001b[0m\u001b[1;33m.\u001b[0m\u001b[0mscan_once\u001b[0m\u001b[1;33m(\u001b[0m\u001b[0ms\u001b[0m\u001b[1;33m,\u001b[0m \u001b[0midx\u001b[0m\u001b[1;33m)\u001b[0m\u001b[1;33m\u001b[0m\u001b[1;33m\u001b[0m\u001b[0m\n\u001b[0;32m    354\u001b[0m         \u001b[1;32mexcept\u001b[0m \u001b[0mStopIteration\u001b[0m \u001b[1;32mas\u001b[0m \u001b[0merr\u001b[0m\u001b[1;33m:\u001b[0m\u001b[1;33m\u001b[0m\u001b[1;33m\u001b[0m\u001b[0m\n\u001b[1;32m--> 355\u001b[1;33m             \u001b[1;32mraise\u001b[0m \u001b[0mJSONDecodeError\u001b[0m\u001b[1;33m(\u001b[0m\u001b[1;34m\"Expecting value\"\u001b[0m\u001b[1;33m,\u001b[0m \u001b[0ms\u001b[0m\u001b[1;33m,\u001b[0m \u001b[0merr\u001b[0m\u001b[1;33m.\u001b[0m\u001b[0mvalue\u001b[0m\u001b[1;33m)\u001b[0m \u001b[1;32mfrom\u001b[0m \u001b[1;32mNone\u001b[0m\u001b[1;33m\u001b[0m\u001b[1;33m\u001b[0m\u001b[0m\n\u001b[0m\u001b[0;32m    356\u001b[0m         \u001b[1;32mreturn\u001b[0m \u001b[0mobj\u001b[0m\u001b[1;33m,\u001b[0m \u001b[0mend\u001b[0m\u001b[1;33m\u001b[0m\u001b[1;33m\u001b[0m\u001b[0m\n",
      "\u001b[1;31mJSONDecodeError\u001b[0m: Expecting value: line 1 column 1 (char 0)"
     ]
    }
   ],
   "source": [
    "response = requests.get(url=f\"http://localhost:8000/czar/{GameID}/{PlayerID}\")\n",
    "CzarTurn = json.loads(response.text)"
   ]
  },
  {
   "cell_type": "code",
   "execution_count": 112,
   "id": "0d5349f6",
   "metadata": {},
   "outputs": [],
   "source": [
    "response = requests.get(url=\"http://localhost:8000/num_question_cards\")\n",
    "NumQCards = json.loads(response.text)"
   ]
  },
  {
   "cell_type": "code",
   "execution_count": 162,
   "id": "f32f7db9",
   "metadata": {},
   "outputs": [
    {
     "ename": "JSONDecodeError",
     "evalue": "Expecting value: line 1 column 1 (char 0)",
     "output_type": "error",
     "traceback": [
      "\u001b[1;31m---------------------------------------------------------------------------\u001b[0m",
      "\u001b[1;31mJSONDecodeError\u001b[0m                           Traceback (most recent call last)",
      "\u001b[1;32m<ipython-input-162-711775424c5e>\u001b[0m in \u001b[0;36m<module>\u001b[1;34m\u001b[0m\n\u001b[0;32m      1\u001b[0m \u001b[0mresponse\u001b[0m \u001b[1;33m=\u001b[0m \u001b[0mrequests\u001b[0m\u001b[1;33m.\u001b[0m\u001b[0mpost\u001b[0m\u001b[1;33m(\u001b[0m\u001b[0murl\u001b[0m\u001b[1;33m=\u001b[0m\u001b[1;34mf\"http://localhost:8000/deal_cards/{PlayerID}\"\u001b[0m\u001b[1;33m)\u001b[0m\u001b[1;33m\u001b[0m\u001b[1;33m\u001b[0m\u001b[0m\n\u001b[1;32m----> 2\u001b[1;33m \u001b[0mcards\u001b[0m \u001b[1;33m=\u001b[0m \u001b[0mjson\u001b[0m\u001b[1;33m.\u001b[0m\u001b[0mloads\u001b[0m\u001b[1;33m(\u001b[0m\u001b[0mresponse\u001b[0m\u001b[1;33m.\u001b[0m\u001b[0mtext\u001b[0m\u001b[1;33m)\u001b[0m\u001b[1;33m\u001b[0m\u001b[1;33m\u001b[0m\u001b[0m\n\u001b[0m\u001b[0;32m      3\u001b[0m \u001b[0mprint\u001b[0m\u001b[1;33m(\u001b[0m\u001b[1;34m\"Your Answer Cards:\"\u001b[0m\u001b[1;33m)\u001b[0m\u001b[1;33m\u001b[0m\u001b[1;33m\u001b[0m\u001b[0m\n\u001b[0;32m      4\u001b[0m \u001b[1;32mfor\u001b[0m \u001b[0mcount\u001b[0m\u001b[1;33m,\u001b[0m \u001b[0mcard\u001b[0m \u001b[1;32min\u001b[0m \u001b[0menumerate\u001b[0m\u001b[1;33m(\u001b[0m\u001b[0mcards\u001b[0m\u001b[1;33m)\u001b[0m\u001b[1;33m:\u001b[0m\u001b[1;33m\u001b[0m\u001b[1;33m\u001b[0m\u001b[0m\n\u001b[0;32m      5\u001b[0m     \u001b[0mprint\u001b[0m\u001b[1;33m(\u001b[0m\u001b[0mcount\u001b[0m \u001b[1;33m+\u001b[0m \u001b[1;36m1\u001b[0m\u001b[1;33m,\u001b[0m \u001b[1;34m\" : \"\u001b[0m\u001b[1;33m,\u001b[0m \u001b[0mcard\u001b[0m\u001b[1;33m)\u001b[0m\u001b[1;33m\u001b[0m\u001b[1;33m\u001b[0m\u001b[0m\n",
      "\u001b[1;32m~\\anaconda3\\lib\\json\\__init__.py\u001b[0m in \u001b[0;36mloads\u001b[1;34m(s, cls, object_hook, parse_float, parse_int, parse_constant, object_pairs_hook, **kw)\u001b[0m\n\u001b[0;32m    355\u001b[0m             \u001b[0mparse_int\u001b[0m \u001b[1;32mis\u001b[0m \u001b[1;32mNone\u001b[0m \u001b[1;32mand\u001b[0m \u001b[0mparse_float\u001b[0m \u001b[1;32mis\u001b[0m \u001b[1;32mNone\u001b[0m \u001b[1;32mand\u001b[0m\u001b[1;33m\u001b[0m\u001b[1;33m\u001b[0m\u001b[0m\n\u001b[0;32m    356\u001b[0m             parse_constant is None and object_pairs_hook is None and not kw):\n\u001b[1;32m--> 357\u001b[1;33m         \u001b[1;32mreturn\u001b[0m \u001b[0m_default_decoder\u001b[0m\u001b[1;33m.\u001b[0m\u001b[0mdecode\u001b[0m\u001b[1;33m(\u001b[0m\u001b[0ms\u001b[0m\u001b[1;33m)\u001b[0m\u001b[1;33m\u001b[0m\u001b[1;33m\u001b[0m\u001b[0m\n\u001b[0m\u001b[0;32m    358\u001b[0m     \u001b[1;32mif\u001b[0m \u001b[0mcls\u001b[0m \u001b[1;32mis\u001b[0m \u001b[1;32mNone\u001b[0m\u001b[1;33m:\u001b[0m\u001b[1;33m\u001b[0m\u001b[1;33m\u001b[0m\u001b[0m\n\u001b[0;32m    359\u001b[0m         \u001b[0mcls\u001b[0m \u001b[1;33m=\u001b[0m \u001b[0mJSONDecoder\u001b[0m\u001b[1;33m\u001b[0m\u001b[1;33m\u001b[0m\u001b[0m\n",
      "\u001b[1;32m~\\anaconda3\\lib\\json\\decoder.py\u001b[0m in \u001b[0;36mdecode\u001b[1;34m(self, s, _w)\u001b[0m\n\u001b[0;32m    335\u001b[0m \u001b[1;33m\u001b[0m\u001b[0m\n\u001b[0;32m    336\u001b[0m         \"\"\"\n\u001b[1;32m--> 337\u001b[1;33m         \u001b[0mobj\u001b[0m\u001b[1;33m,\u001b[0m \u001b[0mend\u001b[0m \u001b[1;33m=\u001b[0m \u001b[0mself\u001b[0m\u001b[1;33m.\u001b[0m\u001b[0mraw_decode\u001b[0m\u001b[1;33m(\u001b[0m\u001b[0ms\u001b[0m\u001b[1;33m,\u001b[0m \u001b[0midx\u001b[0m\u001b[1;33m=\u001b[0m\u001b[0m_w\u001b[0m\u001b[1;33m(\u001b[0m\u001b[0ms\u001b[0m\u001b[1;33m,\u001b[0m \u001b[1;36m0\u001b[0m\u001b[1;33m)\u001b[0m\u001b[1;33m.\u001b[0m\u001b[0mend\u001b[0m\u001b[1;33m(\u001b[0m\u001b[1;33m)\u001b[0m\u001b[1;33m)\u001b[0m\u001b[1;33m\u001b[0m\u001b[1;33m\u001b[0m\u001b[0m\n\u001b[0m\u001b[0;32m    338\u001b[0m         \u001b[0mend\u001b[0m \u001b[1;33m=\u001b[0m \u001b[0m_w\u001b[0m\u001b[1;33m(\u001b[0m\u001b[0ms\u001b[0m\u001b[1;33m,\u001b[0m \u001b[0mend\u001b[0m\u001b[1;33m)\u001b[0m\u001b[1;33m.\u001b[0m\u001b[0mend\u001b[0m\u001b[1;33m(\u001b[0m\u001b[1;33m)\u001b[0m\u001b[1;33m\u001b[0m\u001b[1;33m\u001b[0m\u001b[0m\n\u001b[0;32m    339\u001b[0m         \u001b[1;32mif\u001b[0m \u001b[0mend\u001b[0m \u001b[1;33m!=\u001b[0m \u001b[0mlen\u001b[0m\u001b[1;33m(\u001b[0m\u001b[0ms\u001b[0m\u001b[1;33m)\u001b[0m\u001b[1;33m:\u001b[0m\u001b[1;33m\u001b[0m\u001b[1;33m\u001b[0m\u001b[0m\n",
      "\u001b[1;32m~\\anaconda3\\lib\\json\\decoder.py\u001b[0m in \u001b[0;36mraw_decode\u001b[1;34m(self, s, idx)\u001b[0m\n\u001b[0;32m    353\u001b[0m             \u001b[0mobj\u001b[0m\u001b[1;33m,\u001b[0m \u001b[0mend\u001b[0m \u001b[1;33m=\u001b[0m \u001b[0mself\u001b[0m\u001b[1;33m.\u001b[0m\u001b[0mscan_once\u001b[0m\u001b[1;33m(\u001b[0m\u001b[0ms\u001b[0m\u001b[1;33m,\u001b[0m \u001b[0midx\u001b[0m\u001b[1;33m)\u001b[0m\u001b[1;33m\u001b[0m\u001b[1;33m\u001b[0m\u001b[0m\n\u001b[0;32m    354\u001b[0m         \u001b[1;32mexcept\u001b[0m \u001b[0mStopIteration\u001b[0m \u001b[1;32mas\u001b[0m \u001b[0merr\u001b[0m\u001b[1;33m:\u001b[0m\u001b[1;33m\u001b[0m\u001b[1;33m\u001b[0m\u001b[0m\n\u001b[1;32m--> 355\u001b[1;33m             \u001b[1;32mraise\u001b[0m \u001b[0mJSONDecodeError\u001b[0m\u001b[1;33m(\u001b[0m\u001b[1;34m\"Expecting value\"\u001b[0m\u001b[1;33m,\u001b[0m \u001b[0ms\u001b[0m\u001b[1;33m,\u001b[0m \u001b[0merr\u001b[0m\u001b[1;33m.\u001b[0m\u001b[0mvalue\u001b[0m\u001b[1;33m)\u001b[0m \u001b[1;32mfrom\u001b[0m \u001b[1;32mNone\u001b[0m\u001b[1;33m\u001b[0m\u001b[1;33m\u001b[0m\u001b[0m\n\u001b[0m\u001b[0;32m    356\u001b[0m         \u001b[1;32mreturn\u001b[0m \u001b[0mobj\u001b[0m\u001b[1;33m,\u001b[0m \u001b[0mend\u001b[0m\u001b[1;33m\u001b[0m\u001b[1;33m\u001b[0m\u001b[0m\n",
      "\u001b[1;31mJSONDecodeError\u001b[0m: Expecting value: line 1 column 1 (char 0)"
     ]
    }
   ],
   "source": [
    "response = requests.post(url=f\"http://localhost:8000/deal_cards/{PlayerID}\")\n",
    "cards = json.loads(response.text)\n",
    "print(\"Your Answer Cards:\")\n",
    "for count, card in enumerate(cards):\n",
    "    print(count + 1, \" : \", card)"
   ]
  },
  {
   "cell_type": "code",
   "execution_count": 130,
   "id": "a483979a",
   "metadata": {},
   "outputs": [
    {
     "name": "stdout",
     "output_type": "stream",
     "text": [
      "CHOOSE!!!!! 2\n",
      "CHOOSE!!!!! 6\n",
      "[2, 6]\n"
     ]
    }
   ],
   "source": [
    "if CzarTurn == True:\n",
    "    print(\"you are czar\")\n",
    "else:    \n",
    "    choice = []\n",
    "    for index in range(QCard[\"num_gaps\"]):\n",
    "        choice.append(int(input(\"choose a card between 1 - 7: \")))\n",
    "    requests.post(url=f\"http://localhost:8000/save_choice/{PlayerID}/{choice}\")\n"
   ]
  },
  {
   "cell_type": "markdown",
   "id": "c886b79a",
   "metadata": {},
   "source": [
    "# Define functions"
   ]
  },
  {
   "cell_type": "code",
   "execution_count": 5,
   "id": "efb71ff3",
   "metadata": {},
   "outputs": [],
   "source": [
    "def CreatePlayer():\n",
    "    # creates a player in the database\n",
    "    response = requests.post(url=\"http://localhost:8000/create_player\")\n",
    "    ID = json.loads(response.text)\n",
    "    # returns the id of the player\n",
    "    return ID"
   ]
  },
  {
   "cell_type": "code",
   "execution_count": 6,
   "id": "d7328a1d",
   "metadata": {},
   "outputs": [],
   "source": [
    "def JoinGame(Game, ID):\n",
    "    # joins the game with id Game\n",
    "    requests.post(url=f\"http://localhost:8000/join_game/{Game}/{ID}\")"
   ]
  },
  {
   "cell_type": "code",
   "execution_count": 7,
   "id": "99a20b5a",
   "metadata": {},
   "outputs": [],
   "source": [
    "def ReturnQCard(Game):\n",
    "    # gets the current question card from the database\n",
    "    response = requests.get(url=f\"http://localhost:8000/return_qcard/{Game}\")\n",
    "    Question, Gaps = json.loads(response.text)\n",
    "    # returns the information of the question card\n",
    "    return Question, Gaps"
   ]
  },
  {
   "cell_type": "code",
   "execution_count": 8,
   "id": "3520cf51",
   "metadata": {},
   "outputs": [],
   "source": [
    "def DealCards(ID):\n",
    "    # deals 7 answer cards to the player and saves them in the database\n",
    "    response = requests.post(url=f\"http://localhost:8000/deal_cards/{PlayerID}\")\n",
    "    AnsCards = json.loads(response.text)\n",
    "    # returns the answer cards the player has in the database\n",
    "    return AnsCards"
   ]
  },
  {
   "cell_type": "code",
   "execution_count": 9,
   "id": "f5ee9fe1",
   "metadata": {},
   "outputs": [],
   "source": [
    "def SaveChoice(ID, CardChoice):\n",
    "    # saves the choices of the player in the database\n",
    "    requests.post(url=f\"http://localhost:8000/save_choice/{ID}/{CardChoice}\")"
   ]
  },
  {
   "cell_type": "code",
   "execution_count": 10,
   "id": "ba2dfad3",
   "metadata": {},
   "outputs": [],
   "source": [
    "def Czar(Game, ID):\n",
    "    # checks if the player is the czar\n",
    "    response = requests.get(url=f\"http://localhost:8000/czar/{Game}/{ID}\")\n",
    "    Turn = json.loads(response.text)\n",
    "    return Turn"
   ]
  },
  {
   "cell_type": "code",
   "execution_count": 11,
   "id": "5971cf6e",
   "metadata": {},
   "outputs": [],
   "source": [
    "def GivePoint(Winner):\n",
    "    # gives a point to the player who was chosen by the czar and saves it in the database\n",
    "    response = requests.post(url=f\"http://localhost:8000/give_points/{Winner}\")\n",
    "    NumPoints = json.loads(response.text)\n",
    "    # returns the number of points the player who won the round has to check if they have enough points to win the game\n",
    "    return NumPoints"
   ]
  },
  {
   "cell_type": "code",
   "execution_count": 35,
   "id": "411819df",
   "metadata": {},
   "outputs": [],
   "source": [
    "def PlayerTurn(Question, ID, Gaps):\n",
    "    # this function is run when the player is not the Czar\n",
    "    choice = []\n",
    "    # displays the question card\n",
    "    print(\"The Question Card is:\")\n",
    "    print(Question)\n",
    "    # gets the answer cards and dislplays them\n",
    "    cards = DealCards(ID)\n",
    "    print(\"Your Answer Cards:\")\n",
    "    for count, card in enumerate(cards):\n",
    "        print(count + 1, \" : \", card)\n",
    "    # allows the user to choose an appropriate number of answer cards\n",
    "    for index in range(Gaps):\n",
    "        choice.append(int(input(\"choose a card between 1 - 7: \")))\n",
    "    # saves the players choice\n",
    "    SaveChoice(PlayerID, choice)"
   ]
  },
  {
   "cell_type": "code",
   "execution_count": 26,
   "id": "76d4baff",
   "metadata": {},
   "outputs": [],
   "source": [
    "def CardsIn(Game):\n",
    "    # checks if all the players have submitted their answer cards\n",
    "    choices = []\n",
    "    # gets the choices submitted by the players\n",
    "    response = requests.get(url=f\"http://localhost:8000/return_choices/{Game}\")\n",
    "    ChoicesCompleted, ChoiceID = json.loads(response.text)\n",
    "    # loops through each choice and saves it to a list in a nice format\n",
    "    for choice in ChoiceID:\n",
    "        TempList = []\n",
    "        CardInfo = []\n",
    "        for CardID in choice[1]:\n",
    "            # gets the answer card text of the answer card with the id found in the choices\n",
    "            response = requests.get(url=f\"http://localhost:8000/answer_card/{CardID}\")\n",
    "            AnsCard = json.loads(response.text)\n",
    "            TempList.append(AnsCard[\"text\"])\n",
    "        # saves the text to a nested list\n",
    "        CardInfo.append(choice[0])\n",
    "        CardInfo.append(TempList)\n",
    "        choices.append(CardInfo)\n",
    "    # In the real thing this would be repeating until all choices are in\n",
    "    # returns a true statement if all the players have submitted their answer cards as well as the choices\n",
    "    return ChoicesCompleted, choices"
   ]
  },
  {
   "cell_type": "code",
   "execution_count": 27,
   "id": "0030b3b5",
   "metadata": {},
   "outputs": [],
   "source": [
    "def CzarsTurn(Game, Question):\n",
    "    # this function will only be run if the player is the Czar\n",
    "    # checks if all the players have submitted their answer cards\n",
    "    ChoicesIn, choices = CardsIn(Game)\n",
    "    if ChoicesIn:\n",
    "        # displays the question card\n",
    "        print(\"The Question Card is:\")\n",
    "        print(Question)\n",
    "        # displays the choices submitted by the players\n",
    "        print(\"The choices are:\")\n",
    "        for count, index in enumerate(choices):\n",
    "            print(count + 1, \" : \", index[1])\n",
    "            # allows the czar to choose a winner for the round\n",
    "        PointWinner = int(input(\"choose a card: \"))\n",
    "        # gives a point to the chosen player\n",
    "        points = GivePoint(choices[PointWinner - 1][0])\n",
    "        print(points)\n",
    "    else:\n",
    "        # displays this message if not all the players have submitted their answer cards\n",
    "        print(\"Not all players have chosen their cards\")\n",
    "    # CZAR IS YET NOT FINISHED"
   ]
  },
  {
   "cell_type": "markdown",
   "id": "f9a4ceb7",
   "metadata": {},
   "source": [
    "# Start Game"
   ]
  },
  {
   "cell_type": "code",
   "execution_count": 28,
   "id": "359f59b0",
   "metadata": {},
   "outputs": [],
   "source": [
    "response = requests.post(url=\"http://localhost:8000/create_game\")\n",
    "GameID, QCard = json.loads(response.text)"
   ]
  },
  {
   "cell_type": "markdown",
   "id": "82ba4423",
   "metadata": {},
   "source": [
    "## Player 1"
   ]
  },
  {
   "cell_type": "code",
   "execution_count": 29,
   "id": "68351ada",
   "metadata": {},
   "outputs": [],
   "source": [
    "CzarTurn = False"
   ]
  },
  {
   "cell_type": "code",
   "execution_count": 30,
   "id": "86c63ee3",
   "metadata": {},
   "outputs": [],
   "source": [
    "PlayerID = CreatePlayer()"
   ]
  },
  {
   "cell_type": "code",
   "execution_count": 31,
   "id": "81b573c9",
   "metadata": {},
   "outputs": [],
   "source": [
    "JoinGame(GameID, PlayerID)"
   ]
  },
  {
   "cell_type": "code",
   "execution_count": 32,
   "id": "ffc21947",
   "metadata": {},
   "outputs": [
    {
     "name": "stdout",
     "output_type": "stream",
     "text": [
      "{} is a slippery slope that leads to {}.\n"
     ]
    }
   ],
   "source": [
    "QCard, NumGaps = ReturnQCard(GameID)\n",
    "print(QCard)"
   ]
  },
  {
   "cell_type": "code",
   "execution_count": 33,
   "id": "b0f05d4e",
   "metadata": {},
   "outputs": [],
   "source": [
    "# CzarTurn = Czar(GameID, PlayerID)"
   ]
  },
  {
   "cell_type": "code",
   "execution_count": 36,
   "id": "392aa36c",
   "metadata": {},
   "outputs": [
    {
     "name": "stdout",
     "output_type": "stream",
     "text": [
      "The Question Card is:\n",
      "{} is a slippery slope that leads to {}.\n",
      "Your Answer Cards:\n",
      "1  :  Multiple stab wounds\n",
      "2  :  Science\n",
      "3  :  Dark and mysterious forces beyond our control\n",
      "4  :  The South\n",
      "5  :  Autocannibalism\n",
      "6  :  The Hustle\n",
      "7  :  Seeing what happens when you lock people in a room with hungry seagulls\n",
      "choose a card between 1 - 7: 2\n",
      "choose a card between 1 - 7: 3\n"
     ]
    }
   ],
   "source": [
    "if CzarTurn:\n",
    "    CzarsTurn(GameID, QCard)\n",
    "else:\n",
    "    PlayerTurn(QCard, PlayerID, NumGaps)"
   ]
  },
  {
   "cell_type": "markdown",
   "id": "9f59b1d0",
   "metadata": {},
   "source": [
    "## Player 2"
   ]
  },
  {
   "cell_type": "code",
   "execution_count": 128,
   "id": "39518d98",
   "metadata": {},
   "outputs": [],
   "source": [
    "CzarTurn = False"
   ]
  },
  {
   "cell_type": "code",
   "execution_count": 129,
   "id": "cb049e06",
   "metadata": {},
   "outputs": [],
   "source": [
    "choice = []\n",
    "PlayerID = CreatePlayer()"
   ]
  },
  {
   "cell_type": "code",
   "execution_count": 130,
   "id": "7d2d8f68",
   "metadata": {},
   "outputs": [],
   "source": [
    "JoinGame(GameID, PlayerID)"
   ]
  },
  {
   "cell_type": "code",
   "execution_count": 131,
   "id": "e75e9b29",
   "metadata": {},
   "outputs": [
    {
     "name": "stdout",
     "output_type": "stream",
     "text": [
      "When I am President, I will create the Department of {}.\n"
     ]
    }
   ],
   "source": [
    "QCard, NumGaps = ReturnQCard(GameID)\n",
    "print(QCard)"
   ]
  },
  {
   "cell_type": "code",
   "execution_count": 132,
   "id": "fc92bc2e",
   "metadata": {},
   "outputs": [],
   "source": [
    "# CzarTurn = Czar(GameID, PlayerID)"
   ]
  },
  {
   "cell_type": "code",
   "execution_count": 133,
   "id": "756c7321",
   "metadata": {},
   "outputs": [
    {
     "name": "stdout",
     "output_type": "stream",
     "text": [
      "The Question Card is:\n",
      "When I am President, I will create the Department of {}.\n",
      "Your Answer Cards:\n",
      "1  :  Land mines\n",
      "2  :  Pooping in a laptop and closing it\n",
      "3  :  Vigorous jazz hands\n",
      "4  :  My abusive boyfriend who really isn’t so bad once you get to know him\n",
      "5  :  Cardi B\n",
      "6  :  Sexual peeing\n",
      "7  :  Accepting the way things are\n",
      "choose a card between 1 - 7: 4\n"
     ]
    }
   ],
   "source": [
    "if CzarTurn:\n",
    "    CzarsTurn(GameID, QCard)\n",
    "else:\n",
    "    PlayerTurn(QCard, PlayerID, NumGaps)"
   ]
  },
  {
   "cell_type": "markdown",
   "id": "0bf5174c",
   "metadata": {},
   "source": [
    "## Player 3"
   ]
  },
  {
   "cell_type": "code",
   "execution_count": 134,
   "id": "b17eed52",
   "metadata": {},
   "outputs": [],
   "source": [
    "CzarTurn = False"
   ]
  },
  {
   "cell_type": "code",
   "execution_count": 135,
   "id": "10650213",
   "metadata": {},
   "outputs": [],
   "source": [
    "choice = []\n",
    "PlayerID = CreatePlayer()"
   ]
  },
  {
   "cell_type": "code",
   "execution_count": 136,
   "id": "4cc5cc63",
   "metadata": {},
   "outputs": [],
   "source": [
    "JoinGame(GameID, PlayerID)"
   ]
  },
  {
   "cell_type": "code",
   "execution_count": 137,
   "id": "bd015cd6",
   "metadata": {},
   "outputs": [
    {
     "name": "stdout",
     "output_type": "stream",
     "text": [
      "When I am President, I will create the Department of {}.\n"
     ]
    }
   ],
   "source": [
    "QCard, NumGaps = ReturnQCard(GameID)\n",
    "print(QCard)"
   ]
  },
  {
   "cell_type": "code",
   "execution_count": 138,
   "id": "276af185",
   "metadata": {},
   "outputs": [],
   "source": [
    "# CzarTurn = Czar(GameID, PlayerID)"
   ]
  },
  {
   "cell_type": "code",
   "execution_count": 139,
   "id": "61d56031",
   "metadata": {},
   "outputs": [
    {
     "name": "stdout",
     "output_type": "stream",
     "text": [
      "The Question Card is:\n",
      "When I am President, I will create the Department of {}.\n",
      "Your Answer Cards:\n",
      "1  :  An erection that lasts longer than four hours\n",
      "2  :  A salad for men that’s made of metal\n",
      "3  :  Serfdom\n",
      "4  :  Goblins\n",
      "5  :  This month’s mass shooting\n",
      "6  :  Judging everyone\n",
      "7  :  Flightless birds\n",
      "choose a card between 1 - 7: 7\n"
     ]
    }
   ],
   "source": [
    "if CzarTurn:\n",
    "    CzarsTurn(GameID, QCard)\n",
    "else:\n",
    "    PlayerTurn(QCard, PlayerID, NumGaps)"
   ]
  },
  {
   "cell_type": "markdown",
   "id": "b07283a8",
   "metadata": {},
   "source": [
    "## Czar"
   ]
  },
  {
   "cell_type": "code",
   "execution_count": 140,
   "id": "6a1dea21",
   "metadata": {},
   "outputs": [],
   "source": [
    "CzarTurn = True"
   ]
  },
  {
   "cell_type": "code",
   "execution_count": 141,
   "id": "01b0222c",
   "metadata": {},
   "outputs": [],
   "source": [
    "PlayerID = CreatePlayer()"
   ]
  },
  {
   "cell_type": "code",
   "execution_count": 142,
   "id": "dc3a52d0",
   "metadata": {},
   "outputs": [],
   "source": [
    "JoinGame(GameID, PlayerID)"
   ]
  },
  {
   "cell_type": "code",
   "execution_count": 143,
   "id": "cdadd41b",
   "metadata": {},
   "outputs": [
    {
     "name": "stdout",
     "output_type": "stream",
     "text": [
      "When I am President, I will create the Department of {}.\n"
     ]
    }
   ],
   "source": [
    "QCard, NumGaps = ReturnQCard(GameID)\n",
    "print(QCard)"
   ]
  },
  {
   "cell_type": "code",
   "execution_count": 144,
   "id": "519184bb",
   "metadata": {},
   "outputs": [],
   "source": [
    "# CzarTurn = Czar(GameID, PlayerID)"
   ]
  },
  {
   "cell_type": "code",
   "execution_count": 145,
   "id": "877fa2cf",
   "metadata": {},
   "outputs": [
    {
     "name": "stdout",
     "output_type": "stream",
     "text": [
      "The Question Card is:\n",
      "When I am President, I will create the Department of {}.\n"
     ]
    },
    {
     "ename": "KeyError",
     "evalue": "'text'",
     "output_type": "error",
     "traceback": [
      "\u001b[1;31m---------------------------------------------------------------------------\u001b[0m",
      "\u001b[1;31mKeyError\u001b[0m                                  Traceback (most recent call last)",
      "\u001b[1;32m<ipython-input-145-d2ff71c80f80>\u001b[0m in \u001b[0;36m<module>\u001b[1;34m\u001b[0m\n\u001b[0;32m      1\u001b[0m \u001b[1;32mif\u001b[0m \u001b[0mCzarTurn\u001b[0m\u001b[1;33m:\u001b[0m\u001b[1;33m\u001b[0m\u001b[1;33m\u001b[0m\u001b[0m\n\u001b[1;32m----> 2\u001b[1;33m     \u001b[0mCzarsTurn\u001b[0m\u001b[1;33m(\u001b[0m\u001b[0mGameID\u001b[0m\u001b[1;33m,\u001b[0m \u001b[0mQCard\u001b[0m\u001b[1;33m)\u001b[0m\u001b[1;33m\u001b[0m\u001b[1;33m\u001b[0m\u001b[0m\n\u001b[0m\u001b[0;32m      3\u001b[0m \u001b[1;32melse\u001b[0m\u001b[1;33m:\u001b[0m\u001b[1;33m\u001b[0m\u001b[1;33m\u001b[0m\u001b[0m\n\u001b[0;32m      4\u001b[0m     \u001b[0mPlayerTurn\u001b[0m\u001b[1;33m(\u001b[0m\u001b[0mQCard\u001b[0m\u001b[1;33m,\u001b[0m \u001b[0mPlayerID\u001b[0m\u001b[1;33m,\u001b[0m \u001b[0mNumGaps\u001b[0m\u001b[1;33m)\u001b[0m\u001b[1;33m\u001b[0m\u001b[1;33m\u001b[0m\u001b[0m\n",
      "\u001b[1;32m<ipython-input-112-114fda0b7c22>\u001b[0m in \u001b[0;36mCzarsTurn\u001b[1;34m(Game, Question)\u001b[0m\n\u001b[0;32m      2\u001b[0m     \u001b[0mprint\u001b[0m\u001b[1;33m(\u001b[0m\u001b[1;34m\"The Question Card is:\"\u001b[0m\u001b[1;33m)\u001b[0m\u001b[1;33m\u001b[0m\u001b[1;33m\u001b[0m\u001b[0m\n\u001b[0;32m      3\u001b[0m     \u001b[0mprint\u001b[0m\u001b[1;33m(\u001b[0m\u001b[0mQuestion\u001b[0m\u001b[1;33m)\u001b[0m\u001b[1;33m\u001b[0m\u001b[1;33m\u001b[0m\u001b[0m\n\u001b[1;32m----> 4\u001b[1;33m     \u001b[0mchoices\u001b[0m \u001b[1;33m=\u001b[0m \u001b[0mGetChoices\u001b[0m\u001b[1;33m(\u001b[0m\u001b[0mGame\u001b[0m\u001b[1;33m)\u001b[0m\u001b[1;33m\u001b[0m\u001b[1;33m\u001b[0m\u001b[0m\n\u001b[0m\u001b[0;32m      5\u001b[0m     \u001b[0mprint\u001b[0m\u001b[1;33m(\u001b[0m\u001b[1;34m\"The choices are:\"\u001b[0m\u001b[1;33m)\u001b[0m\u001b[1;33m\u001b[0m\u001b[1;33m\u001b[0m\u001b[0m\n\u001b[0;32m      6\u001b[0m     \u001b[1;32mfor\u001b[0m \u001b[0mcount\u001b[0m\u001b[1;33m,\u001b[0m \u001b[0mindex\u001b[0m \u001b[1;32min\u001b[0m \u001b[0menumerate\u001b[0m\u001b[1;33m(\u001b[0m\u001b[0mchoices\u001b[0m\u001b[1;33m)\u001b[0m\u001b[1;33m:\u001b[0m\u001b[1;33m\u001b[0m\u001b[1;33m\u001b[0m\u001b[0m\n",
      "\u001b[1;32m<ipython-input-99-0be47393c2c4>\u001b[0m in \u001b[0;36mGetChoices\u001b[1;34m(Game)\u001b[0m\n\u001b[0;32m      9\u001b[0m             \u001b[0mresponse\u001b[0m \u001b[1;33m=\u001b[0m \u001b[0mrequests\u001b[0m\u001b[1;33m.\u001b[0m\u001b[0mget\u001b[0m\u001b[1;33m(\u001b[0m\u001b[0murl\u001b[0m\u001b[1;33m=\u001b[0m\u001b[1;34mf\"http://localhost:8000/answer_card/{CardID}\"\u001b[0m\u001b[1;33m)\u001b[0m\u001b[1;33m\u001b[0m\u001b[1;33m\u001b[0m\u001b[0m\n\u001b[0;32m     10\u001b[0m             \u001b[0mAnsCard\u001b[0m \u001b[1;33m=\u001b[0m \u001b[0mjson\u001b[0m\u001b[1;33m.\u001b[0m\u001b[0mloads\u001b[0m\u001b[1;33m(\u001b[0m\u001b[0mresponse\u001b[0m\u001b[1;33m.\u001b[0m\u001b[0mtext\u001b[0m\u001b[1;33m)\u001b[0m\u001b[1;33m\u001b[0m\u001b[1;33m\u001b[0m\u001b[0m\n\u001b[1;32m---> 11\u001b[1;33m             \u001b[0mTempList\u001b[0m\u001b[1;33m.\u001b[0m\u001b[0mappend\u001b[0m\u001b[1;33m(\u001b[0m\u001b[0mAnsCard\u001b[0m\u001b[1;33m[\u001b[0m\u001b[1;34m\"text\"\u001b[0m\u001b[1;33m]\u001b[0m\u001b[1;33m)\u001b[0m\u001b[1;33m\u001b[0m\u001b[1;33m\u001b[0m\u001b[0m\n\u001b[0m\u001b[0;32m     12\u001b[0m         \u001b[0mCardInfo\u001b[0m\u001b[1;33m.\u001b[0m\u001b[0mappend\u001b[0m\u001b[1;33m(\u001b[0m\u001b[0mchoice\u001b[0m\u001b[1;33m[\u001b[0m\u001b[1;36m0\u001b[0m\u001b[1;33m]\u001b[0m\u001b[1;33m)\u001b[0m\u001b[1;33m\u001b[0m\u001b[1;33m\u001b[0m\u001b[0m\n\u001b[0;32m     13\u001b[0m         \u001b[0mCardInfo\u001b[0m\u001b[1;33m.\u001b[0m\u001b[0mappend\u001b[0m\u001b[1;33m(\u001b[0m\u001b[0mTempList\u001b[0m\u001b[1;33m)\u001b[0m\u001b[1;33m\u001b[0m\u001b[1;33m\u001b[0m\u001b[0m\n",
      "\u001b[1;31mKeyError\u001b[0m: 'text'"
     ]
    }
   ],
   "source": [
    "if CzarTurn:\n",
    "    CzarsTurn(GameID, QCard)\n",
    "else:\n",
    "    PlayerTurn(QCard, PlayerID, NumGaps)"
   ]
  },
  {
   "cell_type": "markdown",
   "id": "a6f1c91d",
   "metadata": {},
   "source": [
    "### TODO LIST:\n",
    "* start game when evreyone is in\n",
    "* display how many players in the game ---\n",
    "* need to store game id in player when there are more than one game\n",
    "* save the Qcard in the table games ---\n",
    "* in \"/deal_cards\" give the cards not the card ids in an array ----\n",
    "* make delte games and players ---\n",
    "* when i create a game make it so that it saves a QCard ---\n",
    "* make a function in backend that saves a random QCard ---\n",
    "* make a function in backend that retruns the current QCard ---\n",
    "* make cells for the different players in notebook"
   ]
  },
  {
   "cell_type": "code",
   "execution_count": null,
   "id": "8362e0dc",
   "metadata": {},
   "outputs": [],
   "source": []
  }
 ],
 "metadata": {
  "kernelspec": {
   "display_name": "Python 3",
   "language": "python",
   "name": "python3"
  },
  "language_info": {
   "codemirror_mode": {
    "name": "ipython",
    "version": 3
   },
   "file_extension": ".py",
   "mimetype": "text/x-python",
   "name": "python",
   "nbconvert_exporter": "python",
   "pygments_lexer": "ipython3",
   "version": "3.8.8"
  }
 },
 "nbformat": 4,
 "nbformat_minor": 5
}
