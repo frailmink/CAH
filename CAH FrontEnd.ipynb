{
 "cells": [
  {
   "cell_type": "code",
   "execution_count": 1,
   "id": "a1d1ee75",
   "metadata": {},
   "outputs": [],
   "source": [
    "import requests"
   ]
  },
  {
   "cell_type": "code",
   "execution_count": 67,
   "id": "1e1c17e6",
   "metadata": {},
   "outputs": [],
   "source": [
    "response = requests.get(url=\"http://localhost:8000/question_card/4\")"
   ]
  },
  {
   "cell_type": "code",
   "execution_count": 68,
   "id": "1ae9e4e9",
   "metadata": {},
   "outputs": [
    {
     "data": {
      "text/plain": [
       "'{\"id\":4,\"text\":\"TSA guidelines now prohibit {} on airplanes.\",\"num_gaps\":1}'"
      ]
     },
     "execution_count": 68,
     "metadata": {},
     "output_type": "execute_result"
    }
   ],
   "source": [
    "response.text"
   ]
  },
  {
   "cell_type": "code",
   "execution_count": 69,
   "id": "3403360c",
   "metadata": {},
   "outputs": [],
   "source": [
    "import json"
   ]
  },
  {
   "cell_type": "code",
   "execution_count": 71,
   "id": "fe64fb68",
   "metadata": {},
   "outputs": [
    {
     "data": {
      "text/plain": [
       "'TSA guidelines now prohibit {} on airplanes.'"
      ]
     },
     "execution_count": 71,
     "metadata": {},
     "output_type": "execute_result"
    }
   ],
   "source": [
    "x = json.loads(response.text)\n",
    "x[\"text\"]"
   ]
  },
  {
   "cell_type": "code",
   "execution_count": 60,
   "id": "112dc8de",
   "metadata": {},
   "outputs": [],
   "source": [
    "import random"
   ]
  },
  {
   "cell_type": "code",
   "execution_count": 105,
   "id": "8d6b398f",
   "metadata": {},
   "outputs": [
    {
     "name": "stdout",
     "output_type": "stream",
     "text": [
      "4\n"
     ]
    }
   ],
   "source": [
    "response = requests.post(url=\"http://localhost:8000/create_player\")\n",
    "PlayerID = json.loads(response.text)\n",
    "print(PlayerID)"
   ]
  },
  {
   "cell_type": "code",
   "execution_count": 131,
   "id": "d6b9b93c",
   "metadata": {},
   "outputs": [],
   "source": [
    "response = requests.post(url=\"http://localhost:8000/create_game\")\n",
    "GameID = json.loads(response.text)"
   ]
  },
  {
   "cell_type": "code",
   "execution_count": null,
   "id": "4d200127",
   "metadata": {},
   "outputs": [],
   "source": [
    "requests.post(url=f\"http://localhost:8000/join_game/{GameID}/{PlayerID}\")"
   ]
  },
  {
   "cell_type": "code",
   "execution_count": 128,
   "id": "fa7f6eed",
   "metadata": {},
   "outputs": [
    {
     "name": "stdout",
     "output_type": "stream",
     "text": [
      "The Question Card:\n",
      "{'id': 8, 'text': 'When I was tripping on acid, {} turned into {}.', 'num_gaps': 2}\n"
     ]
    }
   ],
   "source": [
    "RandomNum = random.randint(1,NumQCards)\n",
    "response = requests.get(url=f\"http://localhost:8000/question_card/{RandomNum}\")\n",
    "QCard = json.loads(response.text)\n",
    "print(f\"\"\"The Question Card:\n",
    "{QCard[\"text\"]}\"\"\")"
   ]
  },
  {
   "cell_type": "code",
   "execution_count": 59,
   "id": "6530c9a1",
   "metadata": {},
   "outputs": [],
   "source": [
    "response = requests.get(url=f\"http://localhost:8000/czar/{GameID}/{PlayerID}\")\n",
    "CzarTurn = json.loads(response.text)"
   ]
  },
  {
   "cell_type": "code",
   "execution_count": 112,
   "id": "0d5349f6",
   "metadata": {},
   "outputs": [],
   "source": [
    "response = requests.get(url=\"http://localhost:8000/num_question_cards\")\n",
    "NumQCards = json.loads(response.text)"
   ]
  },
  {
   "cell_type": "code",
   "execution_count": 123,
   "id": "f32f7db9",
   "metadata": {},
   "outputs": [
    {
     "name": "stdout",
     "output_type": "stream",
     "text": [
      "Your Answer Cards:\n",
      "1 :  A bowl of mayonnaise and human teeth\n",
      "2 :  Wondering if it’s possible to get some of that salsa to go\n",
      "3 :  Jews, gypsies, and homosexuals\n",
      "4 :  The female orgasm\n",
      "5 :  Jobs\n",
      "6 :  Juuling\n",
      "7 :  Fucking the weatherman on live television\n"
     ]
    }
   ],
   "source": [
    "player_cards = 0\n",
    "count = 1\n",
    "response = requests.post(url=f\"http://localhost:8000/deal_cards/{PlayerID}\")\n",
    "cards = json.loads(response.text)\n",
    "print(\"Your Answer Cards:\")\n",
    "for ids in cards:\n",
    "    response = requests.get(url=f\"http://localhost:8000/answer_card/{ids}\")\n",
    "    print(count,\": \", json.loads(response.text)[\"text\"])\n",
    "    count += 1"
   ]
  },
  {
   "cell_type": "code",
   "execution_count": 130,
   "id": "d13fd637",
   "metadata": {},
   "outputs": [
    {
     "name": "stdout",
     "output_type": "stream",
     "text": [
      "CHOOSE!!!!! 2\n",
      "CHOOSE!!!!! 6\n",
      "[2, 6]\n"
     ]
    }
   ],
   "source": [
    "if CzarTurn == True:\n",
    "    print(\"pp\")\n",
    "else:    \n",
    "    choice = []\n",
    "    for index in range(QCard[\"num_gaps\"]):\n",
    "        choice.append(int(input(\"choose a card between 1 - 7: \")))\n",
    "    requests.post(url=f\"http://localhost:8000/save_choice/{PlayerID}/{choice}\")\n"
   ]
  },
  {
   "cell_type": "code",
   "execution_count": null,
   "id": "2a5be85a",
   "metadata": {},
   "outputs": [],
   "source": [
    "if CzarTurn == False:\n",
    "    print(\"peepee poopoo\")\n",
    "else:\n",
    "    print(\"Noooooooooo\")"
   ]
  },
  {
   "cell_type": "code",
   "execution_count": null,
   "id": "d28f678b",
   "metadata": {},
   "outputs": [],
   "source": []
  }
 ],
 "metadata": {
  "kernelspec": {
   "display_name": "Python 3",
   "language": "python",
   "name": "python3"
  },
  "language_info": {
   "codemirror_mode": {
    "name": "ipython",
    "version": 3
   },
   "file_extension": ".py",
   "mimetype": "text/x-python",
   "name": "python",
   "nbconvert_exporter": "python",
   "pygments_lexer": "ipython3",
   "version": "3.8.8"
  }
 },
 "nbformat": 4,
 "nbformat_minor": 5
}
